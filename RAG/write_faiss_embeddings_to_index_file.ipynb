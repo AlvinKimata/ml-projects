{
  "nbformat": 4,
  "nbformat_minor": 0,
  "metadata": {
    "colab": {
      "provenance": [],
      "authorship_tag": "ABX9TyM+yiS/3BNdYBov3pjARPv3",
      "include_colab_link": true
    },
    "kernelspec": {
      "name": "python3",
      "display_name": "Python 3"
    },
    "language_info": {
      "name": "python"
    }
  },
  "cells": [
    {
      "cell_type": "markdown",
      "metadata": {
        "id": "view-in-github",
        "colab_type": "text"
      },
      "source": [
        "<a href=\"https://colab.research.google.com/github/AlvinKimata/ml-projects/blob/main/RAG/write_faiss_embeddings_to_index_file.ipynb\" target=\"_parent\"><img src=\"https://colab.research.google.com/assets/colab-badge.svg\" alt=\"Open In Colab\"/></a>"
      ]
    },
    {
      "cell_type": "code",
      "execution_count": null,
      "metadata": {
        "id": "0xNKoEWn71au"
      },
      "outputs": [],
      "source": [
        "%%capture\n",
        "!pip install langchain faiss-cpu sentence_transformers chromadb"
      ]
    },
    {
      "cell_type": "code",
      "source": [
        "# import\n",
        "from langchain.embeddings.sentence_transformer import SentenceTransformerEmbeddings\n",
        "from langchain.text_splitter import CharacterTextSplitter\n",
        "from langchain.vectorstores import Chroma\n",
        "from langchain.document_loaders import TextLoader"
      ],
      "metadata": {
        "id": "VpPKmz4x76B9"
      },
      "execution_count": null,
      "outputs": []
    },
    {
      "cell_type": "code",
      "source": [
        "# load the document and split it into chunks\n",
        "loader = TextLoader(\"/content/Testing the Massively Multilingual Speech (MMS) Model that Supports 1162 Languages.txt\")\n",
        "documents = loader.load()\n"
      ],
      "metadata": {
        "id": "-Fc8vzan77Vr"
      },
      "execution_count": null,
      "outputs": []
    },
    {
      "cell_type": "code",
      "source": [
        "with open(\"/content/Testing the Massively Multilingual Speech (MMS) Model that Supports 1162 Languages.txt\", 'r') as f:\n",
        "  data = f.read()"
      ],
      "metadata": {
        "id": "IRsqEdedD9KJ"
      },
      "execution_count": null,
      "outputs": []
    },
    {
      "cell_type": "code",
      "source": [
        "# split it into chunks\n",
        "text_splitter = CharacterTextSplitter(chunk_size=1000, chunk_overlap=0)\n",
        "docs = text_splitter.split_text(data)\n"
      ],
      "metadata": {
        "id": "hWDUlhtb8Zif"
      },
      "execution_count": null,
      "outputs": []
    },
    {
      "cell_type": "code",
      "source": [
        "# create the open-source embedding function\n",
        "embedding_function = SentenceTransformerEmbeddings(model_name=\"all-MiniLM-L6-v2\")\n",
        "\n",
        "embedding_function"
      ],
      "metadata": {
        "colab": {
          "base_uri": "https://localhost:8080/"
        },
        "id": "ihhGCbeF8eCb",
        "outputId": "7aca0d7c-2426-46e4-f1d4-c2c799ef580c"
      },
      "execution_count": null,
      "outputs": [
        {
          "output_type": "execute_result",
          "data": {
            "text/plain": [
              "HuggingFaceEmbeddings(client=SentenceTransformer(\n",
              "  (0): Transformer({'max_seq_length': 256, 'do_lower_case': False}) with Transformer model: BertModel \n",
              "  (1): Pooling({'word_embedding_dimension': 384, 'pooling_mode_cls_token': False, 'pooling_mode_mean_tokens': True, 'pooling_mode_max_tokens': False, 'pooling_mode_mean_sqrt_len_tokens': False})\n",
              "  (2): Normalize()\n",
              "), model_name='all-MiniLM-L6-v2', cache_folder=None, model_kwargs={}, encode_kwargs={})"
            ]
          },
          "metadata": {},
          "execution_count": 11
        }
      ]
    },
    {
      "cell_type": "code",
      "source": [
        "# load it into Chroma\n",
        "db = Chroma.from_texts(docs, embedding_function)\n",
        "\n",
        "# query it\n",
        "# query = \"What did the president say about Ketanji Brown Jackson\"\n",
        "query = \"What is the first line of the document?\"\n",
        "docs = db.similarity_search(query)\n",
        "\n",
        "# print results\n",
        "print(docs[0].page_content)"
      ],
      "metadata": {
        "colab": {
          "base_uri": "https://localhost:8080/"
        },
        "id": "I5ZUFeYJ8gLa",
        "outputId": "03c0a05e-46b4-40b4-cc3a-dee847823e00"
      },
      "execution_count": null,
      "outputs": [
        {
          "output_type": "stream",
          "name": "stdout",
          "text": [
            "Meta used religious texts, such as the Bible, to build a model covering this wide range of languages. These texts have several interesting components: first, they are translated into many languages, and second, there are publicly available audio recordings of people reading these texts in different languages. Thus, the main dataset where this model was trained was the New Testament, which the research team was able to collect for over 1,100 languages and provided more than 32h of data per language. They went further to make it recognize 4,000 languages. This was done by using unlabeled recordings of various other Christian religious readings. From the experiments results, even though the data is from a specific domain, it can generalize well.\n"
          ]
        }
      ]
    },
    {
      "cell_type": "code",
      "source": [
        "text_splitter = CharacterTextSplitter()\n",
        "splits = text_splitter.split_text(data)\n",
        "\n"
      ],
      "metadata": {
        "id": "hF0G3zEk8xlI"
      },
      "execution_count": null,
      "outputs": []
    },
    {
      "cell_type": "code",
      "source": [
        "from langchain.vectorstores.faiss import FAISS\n",
        "import faiss\n",
        "\n",
        "# store = FAISS.from_documents(docs, embedding_function)\n",
        "store = FAISS.from_texts(splits, embedding_function)\n",
        "# faiss.write_index(store.index, '/content/faiss_index')"
      ],
      "metadata": {
        "id": "44BEZ4QI80eK"
      },
      "execution_count": null,
      "outputs": []
    },
    {
      "cell_type": "code",
      "source": [
        "store.save_local('/content/faiss_index')"
      ],
      "metadata": {
        "id": "6Fn0nJba-g6X"
      },
      "execution_count": null,
      "outputs": []
    },
    {
      "cell_type": "code",
      "source": [
        "new_db = FAISS.load_local(r'/content/faiss_index', embedding_function)"
      ],
      "metadata": {
        "id": "smE2h0hQ-sB0"
      },
      "execution_count": null,
      "outputs": []
    },
    {
      "cell_type": "code",
      "source": [],
      "metadata": {
        "id": "pRlHkfCR9HY6"
      },
      "execution_count": null,
      "outputs": []
    }
  ]
}