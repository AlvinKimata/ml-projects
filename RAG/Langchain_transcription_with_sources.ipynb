{
  "nbformat": 4,
  "nbformat_minor": 0,
  "metadata": {
    "colab": {
      "provenance": [],
      "include_colab_link": true
    },
    "kernelspec": {
      "name": "python3",
      "display_name": "Python 3"
    },
    "language_info": {
      "name": "python"
    },
    "accelerator": "GPU",
    "gpuClass": "standard"
  },
  "cells": [
    {
      "cell_type": "markdown",
      "metadata": {
        "id": "view-in-github",
        "colab_type": "text"
      },
      "source": [
        "<a href=\"https://colab.research.google.com/github/AlvinKimata/ml-projects/blob/main/RAG/Langchain_transcription_with_sources.ipynb\" target=\"_parent\"><img src=\"https://colab.research.google.com/assets/colab-badge.svg\" alt=\"Open In Colab\"/></a>"
      ]
    },
    {
      "cell_type": "markdown",
      "source": [
        "# Query the YouTube video transcripts, returning timestamps as sources to legitimize the answers."
      ],
      "metadata": {
        "id": "6WFk81JVP4Ip"
      }
    },
    {
      "cell_type": "markdown",
      "source": [
        "### First set runtime to GPU"
      ],
      "metadata": {
        "id": "9_ppJD-Xs5zl"
      }
    },
    {
      "cell_type": "code",
      "execution_count": null,
      "metadata": {
        "colab": {
          "base_uri": "https://localhost:8080/"
        },
        "id": "NC0p1VRjIlFE",
        "outputId": "23b4ef87-e642-4605-bf95-a05dc57c1118"
      },
      "outputs": [
        {
          "output_type": "stream",
          "name": "stdout",
          "text": [
            "Looking in indexes: https://pypi.org/simple, https://us-python.pkg.dev/colab-wheels/public/simple/\n",
            "Collecting pytube\n",
            "  Downloading pytube-12.1.3-py3-none-any.whl (57 kB)\n",
            "\u001b[2K     \u001b[90m━━━━━━━━━━━━━━━━━━━━━━━━━━━━━━━━━━━━━━━━\u001b[0m \u001b[32m57.2/57.2 kB\u001b[0m \u001b[31m1.9 MB/s\u001b[0m eta \u001b[36m0:00:00\u001b[0m\n",
            "\u001b[?25hInstalling collected packages: pytube\n",
            "Successfully installed pytube-12.1.3\n"
          ]
        }
      ],
      "source": [
        "pip install pytube # For audio downloading"
      ]
    },
    {
      "cell_type": "code",
      "source": [
        "pip install git+https://github.com/openai/whisper.git -q # Whisper from OpenAI transcription model"
      ],
      "metadata": {
        "colab": {
          "base_uri": "https://localhost:8080/"
        },
        "id": "2zAC6DJ5IwTk",
        "outputId": "4bb93cbc-fbb3-4c95-c5a4-a759b33e4345"
      },
      "execution_count": null,
      "outputs": [
        {
          "output_type": "stream",
          "name": "stdout",
          "text": [
            "  Installing build dependencies ... \u001b[?25l\u001b[?25hdone\n",
            "  Getting requirements to build wheel ... \u001b[?25l\u001b[?25hdone\n",
            "  Preparing metadata (pyproject.toml) ... \u001b[?25l\u001b[?25hdone\n",
            "\u001b[2K     \u001b[90m━━━━━━━━━━━━━━━━━━━━━━━━━━━━━━━━━━━━━━━━\u001b[0m \u001b[32m1.7/1.7 MB\u001b[0m \u001b[31m25.7 MB/s\u001b[0m eta \u001b[36m0:00:00\u001b[0m\n",
            "\u001b[?25h  Building wheel for openai-whisper (pyproject.toml) ... \u001b[?25l\u001b[?25hdone\n"
          ]
        }
      ]
    },
    {
      "cell_type": "code",
      "source": [
        "import whisper\n",
        "import pytube"
      ],
      "metadata": {
        "id": "8h_FeO8TI3Zn"
      },
      "execution_count": null,
      "outputs": []
    },
    {
      "cell_type": "code",
      "source": [
        "url = \"https://www.youtube.com/watch?v=Q8fLfQGCdlE\"\n",
        "video = pytube.YouTube(url)\n",
        "video.streams.get_highest_resolution().filesize"
      ],
      "metadata": {
        "id": "eOgbnvXkI50t",
        "colab": {
          "base_uri": "https://localhost:8080/"
        },
        "outputId": "16d4b0fa-3161-4638-ff20-f76076bfc86f"
      },
      "execution_count": null,
      "outputs": [
        {
          "output_type": "execute_result",
          "data": {
            "text/plain": [
              "93249188"
            ]
          },
          "metadata": {},
          "execution_count": 4
        }
      ]
    },
    {
      "cell_type": "code",
      "source": [
        "audio = video.streams.get_audio_only()\n",
        "fn = audio.download(output_path=\"tmp.mp3\") # Downlods only audio from youtube video"
      ],
      "metadata": {
        "id": "ls2DYRxPJQmw"
      },
      "execution_count": null,
      "outputs": []
    },
    {
      "cell_type": "code",
      "source": [
        "model = whisper.load_model(\"base\")"
      ],
      "metadata": {
        "colab": {
          "base_uri": "https://localhost:8080/"
        },
        "id": "LOZ6sSu1Jgm-",
        "outputId": "99651cce-f176-44dd-8e1f-67901eb56439"
      },
      "execution_count": null,
      "outputs": [
        {
          "output_type": "stream",
          "name": "stderr",
          "text": [
            "100%|████████████████████████████████████████| 139M/139M [00:01<00:00, 123MiB/s]\n"
          ]
        }
      ]
    },
    {
      "cell_type": "code",
      "source": [
        "transcription = model.transcribe('')"
      ],
      "metadata": {
        "id": "DMCQql4AJmaf"
      },
      "execution_count": null,
      "outputs": []
    },
    {
      "cell_type": "code",
      "source": [
        "res = transcription['text']"
      ],
      "metadata": {
        "id": "HS9GCRIQKogF"
      },
      "execution_count": null,
      "outputs": []
    },
    {
      "cell_type": "code",
      "source": [
        "from datetime import datetime\n",
        "\n",
        "def store_segments(segments):\n",
        "  texts = []\n",
        "  start_times = []\n",
        "\n",
        "  for segment in segments:\n",
        "    text = segment['text']\n",
        "    start = segment['start']\n",
        "\n",
        "    # Convert the starting time to a datetime object\n",
        "    start_datetime = datetime.fromtimestamp(start)\n",
        "\n",
        "    # Format the starting time as a string in the format \"00:00:00\"\n",
        "    formatted_start_time = start_datetime.strftime('%H:%M:%S')\n",
        "\n",
        "    texts.append(\"\".join(text))\n",
        "    start_times.append(formatted_start_time)\n",
        "\n",
        "  return texts, start_times"
      ],
      "metadata": {
        "id": "lHVWts6YKuDq"
      },
      "execution_count": null,
      "outputs": []
    },
    {
      "cell_type": "code",
      "source": [
        "store_segments(res)"
      ],
      "metadata": {
        "colab": {
          "base_uri": "https://localhost:8080/"
        },
        "id": "X4IaERsPKxKu",
        "outputId": "bb661d46-b09b-4b88-9af3-d9ad0e3c676a"
      },
      "execution_count": null,
      "outputs": [
        {
          "output_type": "execute_result",
          "data": {
            "text/plain": [
              "([' This program is brought to you by Stanford University.',\n",
              "  ' Please visit us at stanford.edu.',\n",
              "  ' Thank you.',\n",
              "  \" I'm honored to be with you today for your commencement from one of the finest universities\",\n",
              "  ' in the world.',\n",
              "  \" Truth be told, I never graduated from college and this is the closest I've ever gotten\",\n",
              "  ' to a college graduation.',\n",
              "  ' Today I want to tell you three stories from my life.',\n",
              "  \" That's it.\",\n",
              "  ' No big deal.',\n",
              "  ' Just three stories.',\n",
              "  ' The first story is about connecting the dots.',\n",
              "  ' I dropped out of Reed College after the first six months but then stayed around as a drop-in',\n",
              "  ' for another 18 months or so before I really quit.',\n",
              "  \" So why'd I drop out?\",\n",
              "  ' It started before I was born.',\n",
              "  ' My biological mother was a young unwed graduate student and she decided to put me up for adoption.',\n",
              "  ' She felt very strongly that I should be adopted by college graduates so everything was all',\n",
              "  ' set for me to be adopted at birth by a lawyer and his wife.',\n",
              "  ' Except that when I popped out, they decided at the last minute that they really wanted',\n",
              "  ' a girl.',\n",
              "  ' So my parents, who were on a waiting list, got a call in the middle of the night asking,',\n",
              "  \" we've got an unexpected baby boy.\",\n",
              "  ' Do you want him?',\n",
              "  ' They said, of course.',\n",
              "  ' My biological mother found out later that my mother had never graduated from college',\n",
              "  ' and that my father had never graduated from high school.',\n",
              "  ' She refused to sign the final adoption papers.',\n",
              "  ' She only relented a few months later when my parents promised that I would go to college.',\n",
              "  ' This was the start in my life.',\n",
              "  ' And 17 years later, I did go to college.',\n",
              "  ' But I naively chose a college that was almost as expensive as Stanford.',\n",
              "  \" And all of my working class parents' savings were being spent on my college tuition.\",\n",
              "  \" After six months, I couldn't see the value in it.\",\n",
              "  ' I had no idea what I wanted to do with my life and no idea how college was going to',\n",
              "  ' help me figure it out.',\n",
              "  ' And here I was spending all of the money my parents had saved their entire life.',\n",
              "  ' So I decided to drop out and trust that it would all work out okay.',\n",
              "  ' It was pretty scary at the time, but looking back, it was one of the best decisions I ever',\n",
              "  ' made.',\n",
              "  \" The minute I dropped out, I could stop taking the required classes that didn't interest\",\n",
              "  ' me and begin dropping in on the ones that looked far more interesting.',\n",
              "  \" It wasn't all romantic.\",\n",
              "  \" I didn't have a dorm room, so I slept on the floor in friends' rooms.\",\n",
              "  ' I returned Coke bottles for the five cent deposits to buy food with.',\n",
              "  ' I would walk the seven miles across town every Sunday night to get one good meal a week at',\n",
              "  ' the Hari Krishna Temple.',\n",
              "  ' I loved it.',\n",
              "  ' And much of what I stumbled into by following my curiosity and intuition turned out to be',\n",
              "  ' priceless later on.',\n",
              "  ' Let me give you one example.',\n",
              "  ' Reed College at that time offered perhaps the best calligraphy instruction in the country.',\n",
              "  ' Throughout the campus, every poster, every label on every drawer was beautifully hand',\n",
              "  ' caligraphed.',\n",
              "  \" Because I had dropped out and didn't have to take the normal classes, I decided to take\",\n",
              "  ' a calligraphy class to learn how to do this.',\n",
              "  ' I learned about serif and sans serif typefaces, about varying the amount of space between different',\n",
              "  ' letter combinations, about what makes great typography great.',\n",
              "  \" It was beautiful, historical, artistically subtle in a way that science can't capture,\",\n",
              "  ' and I found it fascinating.',\n",
              "  ' None of this had even a hope of any practical application in my life.',\n",
              "  ' But ten years later, when we were designing the first Macintosh computer, it all came',\n",
              "  ' back to me.',\n",
              "  ' And we designed it all into the Mac.',\n",
              "  ' It was the first computer with beautiful typography.',\n",
              "  ' If I had never dropped in on that single course in college, the Mac would have never',\n",
              "  ' had multiple typefaces or proportionally spaced fonts.',\n",
              "  \" And since Windows just copied the Mac, it's likely that no personal computer would have\",\n",
              "  ' them.',\n",
              "  ' If I had never dropped out, I would have never dropped in on that calligraphy class, and',\n",
              "  ' personal computers might not have the wonderful typography that they do.',\n",
              "  ' Of course, it was impossible to connect the dots looking forward when I was in college.',\n",
              "  ' But it was very, very clear looking backwards ten years later.',\n",
              "  \" Again, you can't connect the dots looking forward.\",\n",
              "  ' You can only connect them looking backwards.',\n",
              "  ' So you have to trust that the dots will somehow connect in your future.',\n",
              "  ' You have to trust in something, your gut, destiny, life, karma, whatever.',\n",
              "  ' Because believing that the dots will connect down the road will give you the confidence',\n",
              "  ' to follow your heart, even when it leads you off the well-worn path.',\n",
              "  ' And that will make all the difference.',\n",
              "  ' My second story is about love and loss.',\n",
              "  ' I was lucky.',\n",
              "  ' I found what I loved to do early in life.',\n",
              "  \" Waz and I started Apple in my parents' garage when I was 20.\",\n",
              "  ' We worked hard, and in ten years Apple had grown from just the two of us in a garage',\n",
              "  ' into a two billion dollar company with over 4,000 employees.',\n",
              "  ' We just released our finest creation, the Macintosh, a year earlier, and I just turned',\n",
              "  ' 30.',\n",
              "  ' And then I got fired.',\n",
              "  ' How can you get fired from a company you started?',\n",
              "  ' Well, as Apple grew, we hired someone who I thought was very talented to run the company',\n",
              "  ' with me.',\n",
              "  ' And for the first year or so, things went well.',\n",
              "  ' But then our visions of the future began to diverge, and eventually we had a falling out.',\n",
              "  ' When we did, our board of directors sided with him.',\n",
              "  ' And so at 30, I was out, and very publicly out.',\n",
              "  ' But it had been the focus of my entire adult life was gone, and it was devastating.',\n",
              "  \" I really didn't know what to do for a few months.\",\n",
              "  ' I felt that I had let the previous generation of entrepreneurs down, that I had dropped',\n",
              "  ' the baton as it was being passed to me.',\n",
              "  ' I met with David Packard and Bob Noyce and tried to apologize for screwing up so badly.',\n",
              "  ' I was a very public failure, and I even thought about running away from the valley.',\n",
              "  ' But something slowly began to dawn on me.',\n",
              "  ' I still loved what I did.',\n",
              "  ' The turn of events at Apple had not changed that one bit.',\n",
              "  \" I'd been rejected, but I was still in love.\",\n",
              "  ' And so I decided to start over.',\n",
              "  \" I didn't see it then, but it turned out that getting fired from Apple was the best thing\",\n",
              "  ' that could have ever happened to me.',\n",
              "  ' The heaviness of being successful was replaced by the lightness of being a beginner again,',\n",
              "  ' less sure about everything.',\n",
              "  ' It freed me to enter one of the most creative periods of my life.',\n",
              "  ' During the next five years, I started a company named Next, another company named Pixar, and',\n",
              "  ' fell in love with an amazing woman who would become my wife.',\n",
              "  \" Pixar went on to create the world's first computer-animated feature film, Toy Story,\",\n",
              "  ' and is now the most successful animation studio in the world.',\n",
              "  ' In a remarkable turn of events, Apple bought Next, and I returned to Apple, and the technology',\n",
              "  \" we developed at Next is at the heart of Apple's current renaissance.\",\n",
              "  ' And Lorraine and I have a wonderful family together.',\n",
              "  \" I'm pretty sure none of this would have happened if I hadn't been fired from Apple.\",\n",
              "  ' It was awful-tasting medicine, but I guess the patient needed it.',\n",
              "  \" Sometimes life's going to hit you in the head with a brick.\",\n",
              "  \" Don't lose faith.\",\n",
              "  \" I'm convinced that the only thing that kept me going was that I loved what I did.\",\n",
              "  \" You've got to find what you love.\",\n",
              "  ' And that is as true for work as it is for your lovers.',\n",
              "  ' Your work is going to fill a large part of your life, and the only way to be truly satisfied',\n",
              "  ' is to do what you believe is great work.',\n",
              "  ' And the only way to do great work is to love what you do.',\n",
              "  \" If you haven't found it yet, keep looking and don't settle.\",\n",
              "  \" As with all matters of the heart, you'll know when you find it.\",\n",
              "  ' And like any great relationship, it just gets better and better as the years roll on.',\n",
              "  \" So keep looking, don't settle.\",\n",
              "  ' My third story is about death.',\n",
              "  ' When I was 17, I read a quote that went something like, if you live each day as if it was your',\n",
              "  \" last, someday you'll most certainly be right.\",\n",
              "  \" It made an impression on me, and since then, for the past 33 years, I've looked in the\",\n",
              "  ' mirror every morning and asked myself, if today were the last day of my life, what I',\n",
              "  ' want to do, what I am about to do today.',\n",
              "  ' And whenever the answer has been no, for too many days in a row, I know I need to change',\n",
              "  ' something.',\n",
              "  \" Remembering that I'll be dead soon is the most important tool I've ever encountered to help\",\n",
              "  ' me make the big choices in life.',\n",
              "  ' As almost everything, all external expectations, all pride, all fear of embarrassment or failure,',\n",
              "  ' these things just fall away in the face of death, leaving only what is truly important.',\n",
              "  ' Remembering that you are going to die is the best way I know to avoid the trap of thinking',\n",
              "  ' you have something to lose.',\n",
              "  ' You are already naked.',\n",
              "  ' There is no reason not to follow your heart.',\n",
              "  ' About a year ago, I was diagnosed with cancer.',\n",
              "  ' I had a scan at 7.30 in the morning, and it clearly showed a tumor on my pancreas.',\n",
              "  \" I didn't even know what a pancreas was.\",\n",
              "  ' The doctors told me this was almost certainly a type of cancer that is incurable and that',\n",
              "  ' I should expect to live no longer than three to six months.',\n",
              "  \" My doctor advised me to go home and get my affairs in order, which is doctor's code\",\n",
              "  ' for prepare to die.',\n",
              "  ' It means to try and tell your kids everything you thought you would have the next ten years',\n",
              "  ' to tell them in just a few months.',\n",
              "  ' It means to make sure everything is buttoned up so that it will be as easy as possible',\n",
              "  ' for your family.',\n",
              "  ' It means to say your goodbyes.',\n",
              "  ' I live with that diagnosis all day.',\n",
              "  ' Later that evening, I had a biopsy where they stuck an endoscope down my throat, through',\n",
              "  ' my stomach and into my intestines, put a needle into my pancreas and got a few cells from',\n",
              "  ' the tumor.',\n",
              "  ' I was sedated, but my wife, who was there, told me that when they viewed the cells under',\n",
              "  ' a microscope, the doctors started crying because it turned out to be a very rare form of pancreatic',\n",
              "  ' cancer that is curable with surgery.',\n",
              "  \" I had the surgery, and thankfully I'm fine now.\",\n",
              "  \" This was the closest I've been to facing death, and I hope it's the closest I get for a few\",\n",
              "  ' more decades.',\n",
              "  ' Having lived through it, I can now say this to you with a bit more certainty than when',\n",
              "  ' death was a useful but purely intellectual concept.',\n",
              "  ' No one wants to die.',\n",
              "  \" Even people who want to go to heaven don't want to die to get there.\",\n",
              "  ' And yet, death is the destination we all share.',\n",
              "  ' No one has ever escaped it.',\n",
              "  ' And that is as it should be, because death is very likely the single best invention of',\n",
              "  ' life.',\n",
              "  \" It's life's change agent.\",\n",
              "  ' It clears out the old to make way for the new.',\n",
              "  ' Right now, the new is you.',\n",
              "  ' But someday, not too long from now, you will gradually become the old and be cleared away.',\n",
              "  \" Sorry to be so dramatic, but it's quite true.\",\n",
              "  \" Your time is limited, so don't waste it living someone else's life.\",\n",
              "  \" Don't be trapped by dogma, which is living with the results of other people's thinking.\",\n",
              "  \" Don't let the noise of others' opinions drown out your own inner voice.\",\n",
              "  ' And most important, have the courage to follow your heart and intuition.',\n",
              "  ' They somehow already know what you truly want to become.',\n",
              "  ' Everything else is secondary.',\n",
              "  ' When I was young, there was an amazing publication called the Whole Earth Catalog, which was',\n",
              "  ' one of the Bibles of my generation.',\n",
              "  ' It was created by a fellow named Stewart Brand, not far from here in Menlo Park, and he brought',\n",
              "  ' it to life with his poetic touch.',\n",
              "  ' This was in the late 60s, before personal computers and desktop publishing, so it was',\n",
              "  ' all made with typewriters, scissors, and Polaroid cameras.',\n",
              "  ' It was sort of like Google in paperback form 35 years before Google came along.',\n",
              "  ' It was idealistic, overflowing with neat tools and great notions.',\n",
              "  ' Stewart and his team put out several issues of the Whole Earth Catalog, and then, when',\n",
              "  ' it had run its course, they put out a final issue.',\n",
              "  ' It was the mid-1970s, and I was your age.',\n",
              "  ' On the back cover of their final issue was a photograph of an early morning country road,',\n",
              "  ' the kind you might find yourself hitchhiking on if you were so adventurous.',\n",
              "  ' Beneath it were the words, stay hungry, stay foolish.',\n",
              "  ' It was their farewell message as they signed off.',\n",
              "  ' Stay hungry, stay foolish.',\n",
              "  ' And I have always wished that for myself.',\n",
              "  ' And now, as you graduate to begin anew, I wish that for you.',\n",
              "  ' Stay hungry, stay foolish.',\n",
              "  ' Thank you all very much.',\n",
              "  ' The preceding program is copyrighted by Stanford University.',\n",
              "  ' Please visit us at stanford.edu.'],\n",
              " ['00:00:00',\n",
              "  '00:00:10',\n",
              "  '00:00:15',\n",
              "  '00:00:27',\n",
              "  '00:00:31',\n",
              "  '00:00:36',\n",
              "  '00:00:44',\n",
              "  '00:00:48',\n",
              "  '00:00:51',\n",
              "  '00:00:52',\n",
              "  '00:00:53',\n",
              "  '00:00:55',\n",
              "  '00:01:00',\n",
              "  '00:01:05',\n",
              "  '00:01:09',\n",
              "  '00:01:12',\n",
              "  '00:01:15',\n",
              "  '00:01:22',\n",
              "  '00:01:26',\n",
              "  '00:01:32',\n",
              "  '00:01:35',\n",
              "  '00:01:37',\n",
              "  '00:01:42',\n",
              "  '00:01:45',\n",
              "  '00:01:47',\n",
              "  '00:01:50',\n",
              "  '00:01:55',\n",
              "  '00:01:59',\n",
              "  '00:02:03',\n",
              "  '00:02:09',\n",
              "  '00:02:13',\n",
              "  '00:02:17',\n",
              "  '00:02:22',\n",
              "  '00:02:27',\n",
              "  '00:02:30',\n",
              "  '00:02:35',\n",
              "  '00:02:36',\n",
              "  '00:02:42',\n",
              "  '00:02:47',\n",
              "  '00:02:51',\n",
              "  '00:02:54',\n",
              "  '00:02:58',\n",
              "  '00:03:04',\n",
              "  '00:03:06',\n",
              "  '00:03:10',\n",
              "  '00:03:14',\n",
              "  '00:03:19',\n",
              "  '00:03:22',\n",
              "  '00:03:23',\n",
              "  '00:03:28',\n",
              "  '00:03:30',\n",
              "  '00:03:33',\n",
              "  '00:03:38',\n",
              "  '00:03:43',\n",
              "  '00:03:45',\n",
              "  '00:03:50',\n",
              "  '00:03:52',\n",
              "  '00:03:58',\n",
              "  '00:04:03',\n",
              "  '00:04:09',\n",
              "  '00:04:12',\n",
              "  '00:04:17',\n",
              "  '00:04:22',\n",
              "  '00:04:23',\n",
              "  '00:04:25',\n",
              "  '00:04:29',\n",
              "  '00:04:33',\n",
              "  '00:04:37',\n",
              "  '00:04:41',\n",
              "  '00:04:49',\n",
              "  '00:04:54',\n",
              "  '00:04:58',\n",
              "  '00:05:02',\n",
              "  '00:05:06',\n",
              "  '00:05:09',\n",
              "  '00:05:12',\n",
              "  '00:05:16',\n",
              "  '00:05:21',\n",
              "  '00:05:26',\n",
              "  '00:05:30',\n",
              "  '00:05:38',\n",
              "  '00:05:43',\n",
              "  '00:05:44',\n",
              "  '00:05:47',\n",
              "  '00:05:51',\n",
              "  '00:05:56',\n",
              "  '00:05:59',\n",
              "  '00:06:04',\n",
              "  '00:06:06',\n",
              "  '00:06:08',\n",
              "  '00:06:12',\n",
              "  '00:06:17',\n",
              "  '00:06:18',\n",
              "  '00:06:20',\n",
              "  '00:06:25',\n",
              "  '00:06:28',\n",
              "  '00:06:33',\n",
              "  '00:06:38',\n",
              "  '00:06:40',\n",
              "  '00:06:45',\n",
              "  '00:06:47',\n",
              "  '00:06:54',\n",
              "  '00:06:58',\n",
              "  '00:07:01',\n",
              "  '00:07:04',\n",
              "  '00:07:07',\n",
              "  '00:07:11',\n",
              "  '00:07:14',\n",
              "  '00:07:18',\n",
              "  '00:07:20',\n",
              "  '00:07:25',\n",
              "  '00:07:27',\n",
              "  '00:07:31',\n",
              "  '00:07:36',\n",
              "  '00:07:39',\n",
              "  '00:07:44',\n",
              "  '00:07:49',\n",
              "  '00:07:55',\n",
              "  '00:07:59',\n",
              "  '00:08:03',\n",
              "  '00:08:07',\n",
              "  '00:08:12',\n",
              "  '00:08:16',\n",
              "  '00:08:17',\n",
              "  '00:08:21',\n",
              "  '00:08:24',\n",
              "  '00:08:27',\n",
              "  '00:08:32',\n",
              "  '00:08:34',\n",
              "  '00:08:38',\n",
              "  '00:08:43',\n",
              "  '00:08:47',\n",
              "  '00:08:51',\n",
              "  '00:09:04',\n",
              "  '00:09:08',\n",
              "  '00:09:14',\n",
              "  '00:09:20',\n",
              "  '00:09:25',\n",
              "  '00:09:30',\n",
              "  '00:09:33',\n",
              "  '00:09:38',\n",
              "  '00:09:40',\n",
              "  '00:09:44',\n",
              "  '00:09:47',\n",
              "  '00:09:54',\n",
              "  '00:10:00',\n",
              "  '00:10:05',\n",
              "  '00:10:07',\n",
              "  '00:10:09',\n",
              "  '00:10:13',\n",
              "  '00:10:17',\n",
              "  '00:10:22',\n",
              "  '00:10:25',\n",
              "  '00:10:30',\n",
              "  '00:10:35',\n",
              "  '00:10:41',\n",
              "  '00:10:43',\n",
              "  '00:10:48',\n",
              "  '00:10:51',\n",
              "  '00:10:55',\n",
              "  '00:10:57',\n",
              "  '00:11:00',\n",
              "  '00:11:03',\n",
              "  '00:11:08',\n",
              "  '00:11:13',\n",
              "  '00:11:14',\n",
              "  '00:11:19',\n",
              "  '00:11:25',\n",
              "  '00:11:28',\n",
              "  '00:11:40',\n",
              "  '00:11:44',\n",
              "  '00:11:46',\n",
              "  '00:11:50',\n",
              "  '00:11:55',\n",
              "  '00:11:57',\n",
              "  '00:12:01',\n",
              "  '00:12:05',\n",
              "  '00:12:07',\n",
              "  '00:12:13',\n",
              "  '00:12:14',\n",
              "  '00:12:16',\n",
              "  '00:12:19',\n",
              "  '00:12:22',\n",
              "  '00:12:27',\n",
              "  '00:12:32',\n",
              "  '00:12:37',\n",
              "  '00:12:42',\n",
              "  '00:12:46',\n",
              "  '00:12:50',\n",
              "  '00:12:55',\n",
              "  '00:12:57',\n",
              "  '00:13:14',\n",
              "  '00:13:17',\n",
              "  '00:13:22',\n",
              "  '00:13:25',\n",
              "  '00:13:30',\n",
              "  '00:13:34',\n",
              "  '00:13:39',\n",
              "  '00:13:44',\n",
              "  '00:13:49',\n",
              "  '00:13:52',\n",
              "  '00:13:57',\n",
              "  '00:14:03',\n",
              "  '00:14:08',\n",
              "  '00:14:13',\n",
              "  '00:14:16',\n",
              "  '00:14:19',\n",
              "  '00:14:23',\n",
              "  '00:14:28',\n",
              "  '00:14:31',\n",
              "  '00:14:56',\n",
              "  '00:15:00'])"
            ]
          },
          "metadata": {},
          "execution_count": 20
        }
      ]
    },
    {
      "cell_type": "code",
      "source": [
        "texts, start_times = store_segments(res)"
      ],
      "metadata": {
        "id": "__-hrw_6LYsu"
      },
      "execution_count": null,
      "outputs": []
    },
    {
      "cell_type": "code",
      "source": [
        "pip install langchain"
      ],
      "metadata": {
        "id": "7auAzAfXL1V7"
      },
      "execution_count": null,
      "outputs": []
    },
    {
      "cell_type": "code",
      "source": [
        "pip install openai"
      ],
      "metadata": {
        "id": "EMG0TDLoL5rr"
      },
      "execution_count": null,
      "outputs": []
    },
    {
      "cell_type": "code",
      "source": [
        "pip install --upgrade faiss-gpu==1.7.1"
      ],
      "metadata": {
        "colab": {
          "base_uri": "https://localhost:8080/"
        },
        "id": "7TNi-J7FMAlT",
        "outputId": "c0393840-30e1-4b0a-ae65-073a79bccaea"
      },
      "execution_count": null,
      "outputs": [
        {
          "output_type": "stream",
          "name": "stdout",
          "text": [
            "Looking in indexes: https://pypi.org/simple, https://us-python.pkg.dev/colab-wheels/public/simple/\n",
            "Collecting faiss-gpu==1.7.1\n",
            "  Downloading faiss_gpu-1.7.1-cp38-cp38-manylinux_2_17_x86_64.manylinux2014_x86_64.whl (89.7 MB)\n",
            "\u001b[K     |████████████████████████████████| 89.7 MB 35 kB/s \n",
            "\u001b[?25hInstalling collected packages: faiss-gpu\n",
            "Successfully installed faiss-gpu-1.7.1\n"
          ]
        }
      ]
    },
    {
      "cell_type": "code",
      "source": [
        "from langchain.embeddings.openai import OpenAIEmbeddings\n",
        "from langchain.text_splitter import CharacterTextSplitter\n",
        "from langchain.vectorstores.faiss import FAISS\n",
        "from langchain.chains import VectorDBQAWithSourcesChain\n",
        "from langchain import OpenAI\n",
        "import openai\n",
        "import faiss"
      ],
      "metadata": {
        "id": "sJvI6zAcLpDZ"
      },
      "execution_count": null,
      "outputs": []
    },
    {
      "cell_type": "code",
      "source": [
        "import os\n",
        "os.environ[\"OPENAI_API_KEY\"] = \"\""
      ],
      "metadata": {
        "id": "eU40XsWdMHJH"
      },
      "execution_count": null,
      "outputs": []
    },
    {
      "cell_type": "code",
      "source": [
        "text_splitter = CharacterTextSplitter(chunk_size=1500, separator=\"\\n\")\n",
        "docs = []\n",
        "metadatas = []\n",
        "for i, d in enumerate(texts):\n",
        "    splits = text_splitter.split_text(d)\n",
        "    docs.extend(splits)\n",
        "    metadatas.extend([{\"source\": start_times[i]}] * len(splits))\n",
        "embeddings = OpenAIEmbeddings()"
      ],
      "metadata": {
        "id": "6ZylCKSqMLm-"
      },
      "execution_count": null,
      "outputs": []
    },
    {
      "cell_type": "code",
      "source": [
        "store = FAISS.from_texts(docs, embeddings, metadatas=metadatas)"
      ],
      "metadata": {
        "id": "VScsZ_MzMRuv"
      },
      "execution_count": null,
      "outputs": []
    },
    {
      "cell_type": "code",
      "source": [
        "chain = VectorDBQAWithSourcesChain.from_llm(llm=OpenAI(temperature=0), vectorstore=store)"
      ],
      "metadata": {
        "id": "tk-fzMBgMt9g"
      },
      "execution_count": null,
      "outputs": []
    },
    {
      "cell_type": "code",
      "source": [
        "result = chain({\"question\": \"How old was Steve Jobs when started Apple?\"})"
      ],
      "metadata": {
        "id": "8JUgPLpnNOvJ"
      },
      "execution_count": null,
      "outputs": []
    },
    {
      "cell_type": "code",
      "source": [
        "print(f\"Answer: {result['answer']}  Sources: {result['sources']}\")"
      ],
      "metadata": {
        "colab": {
          "base_uri": "https://localhost:8080/"
        },
        "id": "du4gg4C1NX_h",
        "outputId": "23822e3d-a4be-4a9d-a361-19623e8773e7"
      },
      "execution_count": null,
      "outputs": [
        {
          "output_type": "stream",
          "name": "stdout",
          "text": [
            "Answer:  Steve Jobs was 20 when he started Apple.  Sources: 00:05:47, 00:05:59\n"
          ]
        }
      ]
    }
  ]
}