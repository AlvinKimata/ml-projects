{
 "cells": [
  {
   "cell_type": "code",
   "execution_count": 3,
   "metadata": {},
   "outputs": [],
   "source": [
    "import cv2\n",
    "import numpy as np\n",
    "import glob\n",
    "import os"
   ]
  },
  {
   "cell_type": "code",
   "execution_count": 7,
   "metadata": {},
   "outputs": [
    {
     "data": {
      "text/plain": [
       "['sa1',\n",
       " 'sa2',\n",
       " 'si1279',\n",
       " 'si1909',\n",
       " 'si649',\n",
       " 'sx109',\n",
       " 'sx19',\n",
       " 'sx199',\n",
       " 'sx289',\n",
       " 'sx379']"
      ]
     },
     "execution_count": 7,
     "metadata": {},
     "output_type": "execute_result"
    }
   ],
   "source": [
    "output_dir = 'videos'\n",
    "if not os.path.isdir(output_dir):\n",
    "    os.mkdir(output_dir)\n",
    "\n",
    "videos = os.listdir('video')\n",
    "videos = videos[3:]\n",
    "videos"
   ]
  },
  {
   "cell_type": "code",
   "execution_count": null,
   "metadata": {},
   "outputs": [],
   "source": [
    "def generate_video(image_dir):\n",
    "    '''Generate video from a folder with images'''\n",
    "    frameSize = (500, 500)\n",
    "    output_video = os.path.join('video', image_dir + \".avi\")\n",
    "    print(output_video)\n",
    "    # out = cv2.VideoWriter(output_video, cv2.VideoWriter_fourcc(*'DIVX'), 25, frameSize)\n",
    "\n",
    "    for filename in glob.glob(image_dir):\n",
    "        print(filename)\n",
    "        break\n",
    "\n",
    "    # for filename in glob.glob('D:/images/*.jpg'):\n",
    "    #     img = cv2.imread(filename)\n",
    "    #     out.write(img)\n",
    "\n",
    "    # out.release()"
   ]
  }
 ],
 "metadata": {
  "kernelspec": {
   "display_name": "base",
   "language": "python",
   "name": "python3"
  },
  "language_info": {
   "codemirror_mode": {
    "name": "ipython",
    "version": 3
   },
   "file_extension": ".py",
   "mimetype": "text/x-python",
   "name": "python",
   "nbconvert_exporter": "python",
   "pygments_lexer": "ipython3",
   "version": "3.9.13"
  },
  "orig_nbformat": 4
 },
 "nbformat": 4,
 "nbformat_minor": 2
}
